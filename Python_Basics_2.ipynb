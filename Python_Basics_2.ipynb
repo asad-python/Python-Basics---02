{
  "nbformat": 4,
  "nbformat_minor": 0,
  "metadata": {
    "kernelspec": {
      "display_name": "Python 3",
      "language": "python",
      "name": "python3"
    },
    "language_info": {
      "codemirror_mode": {
        "name": "ipython",
        "version": 3
      },
      "file_extension": ".py",
      "mimetype": "text/x-python",
      "name": "python",
      "nbconvert_exporter": "python",
      "pygments_lexer": "ipython3",
      "version": "3.8.3rc1"
    },
    "colab": {
      "name": "Python Basics - 2.ipynb",
      "provenance": []
    }
  },
  "cells": [
    {
      "cell_type": "markdown",
      "metadata": {
        "id": "LVHCLwUYfEa9"
      },
      "source": [
        "## Working with Lists\n",
        "Making Number list\n",
        "In python, we can create a series of numbers using range() function. Let’s have a look at how to create a list using range() function."
      ]
    },
    {
      "cell_type": "code",
      "metadata": {
        "colab": {
          "base_uri": "https://localhost:8080/"
        },
        "id": "KUqPAA18fEbD",
        "outputId": "b3b4a552-2721-4412-c44c-0eae84ec9c31"
      },
      "source": [
        "# syntex of range() --> range(start_number, end_number)\n",
        "# here we are creating list from 1 to 10. \n",
        "# PS: last element wount count in list so if i want list till n number then, you have to write n+1 in range function.\n",
        "\n",
        "num = list(range(1,11))\n",
        "print(num)"
      ],
      "execution_count": null,
      "outputs": [
        {
          "output_type": "stream",
          "name": "stdout",
          "text": [
            "[1, 2, 3, 4, 5, 6, 7, 8, 9, 10]\n"
          ]
        }
      ]
    },
    {
      "cell_type": "code",
      "metadata": {
        "colab": {
          "base_uri": "https://localhost:8080/"
        },
        "id": "hgOZzw2UfEbI",
        "outputId": "c3df134b-4253-4ee7-f30c-5857897a5fef"
      },
      "source": [
        "programming_languages = ['python', 'java', 'c','345']\n",
        "\n",
        "for programming_language in programming_languages: \n",
        "    print(\"I know how to code in \" + programming_language.title() + \" programming language.\")"
      ],
      "execution_count": null,
      "outputs": [
        {
          "output_type": "stream",
          "name": "stdout",
          "text": [
            "I know how to code in Python programming language.\n",
            "I know how to code in Java programming language.\n",
            "I know how to code in C programming language.\n",
            "I know how to code in 345 programming language.\n"
          ]
        }
      ]
    },
    {
      "cell_type": "code",
      "metadata": {
        "id": "ocgFzskKfEbL"
      },
      "source": [
        "\n",
        "for i in range(1,11):\n",
        "    print(i)"
      ],
      "execution_count": null,
      "outputs": []
    },
    {
      "cell_type": "markdown",
      "metadata": {
        "id": "-hdzUUzwfEbM"
      },
      "source": [
        "## Basic statistics with List"
      ]
    },
    {
      "cell_type": "code",
      "metadata": {
        "colab": {
          "base_uri": "https://localhost:8080/"
        },
        "id": "WnYy24wxfEbO",
        "outputId": "15a9e38a-f290-434a-dbf7-c352d5b95e6a"
      },
      "source": [
        "um = list(range(1,11))\n",
        "\n",
        "print(num)\n",
        "\n",
        "\n",
        "print(min(num))\n",
        "\n",
        "\n",
        "print(max(num))\n",
        "\n"
      ],
      "execution_count": null,
      "outputs": [
        {
          "output_type": "stream",
          "name": "stdout",
          "text": [
            "[1, 2, 3, 4, 5, 6, 7, 8, 9, 10]\n",
            "1\n",
            "10\n"
          ]
        }
      ]
    },
    {
      "cell_type": "markdown",
      "metadata": {
        "id": "s7-hmsc9fEbP"
      },
      "source": [
        "## List comprehension\n",
        "List comprehension is an advanced approach to generating lists. List comprehension allows you to combine for loop to create a list. Assume that you’ve to create a list that contains a cube of 1 to 10. First, let’s see how to do that without list comprehension."
      ]
    },
    {
      "cell_type": "code",
      "metadata": {
        "colab": {
          "base_uri": "https://localhost:8080/"
        },
        "id": "jO-G5v2hfEbU",
        "outputId": "e1e6706c-9227-4e98-80f8-8ee657fe28d4"
      },
      "source": [
        "# Without list comprehension\n",
        "cubes = []\n",
        "\n",
        "for i in range(1,11):\n",
        "    cube = i ** 3\n",
        "    cubes.append(cube)\n",
        "\n",
        "print(cubes)"
      ],
      "execution_count": null,
      "outputs": [
        {
          "output_type": "stream",
          "name": "stdout",
          "text": [
            "[1, 8, 27, 64, 125, 216, 343, 512, 729, 1000]\n"
          ]
        }
      ]
    },
    {
      "cell_type": "code",
      "metadata": {
        "id": "QAxIpToTfEbX"
      },
      "source": [
        "# With list comprehension\n",
        "cubes = [cube ** 3 for cube in range(1,11)]\n",
        "print(cubes)"
      ],
      "execution_count": null,
      "outputs": []
    },
    {
      "cell_type": "markdown",
      "metadata": {
        "id": "DAJ2yI95fEbZ"
      },
      "source": [
        "## Advance List Operations\n",
        "Slicing List\n",
        "To slice a list, you have to pass the starting index and last element index. Like range() function, slice also stops before one element. If you want element from starting to 5th elements, you have to pass 0 (first element index) to 5 (sixth element index). Let’s have a look at how to do it in code."
      ]
    },
    {
      "cell_type": "code",
      "metadata": {
        "colab": {
          "base_uri": "https://localhost:8080/"
        },
        "id": "sa6QZLz7fEba",
        "outputId": "8ef461f7-8e51-4475-f7bb-1b2c5c02cb24"
      },
      "source": [
        "languages = ['English', 'Hindi', 'Chinese', 'Spanish', 'Bengali', 'Russian', 'Arabic', 'Portuguese']\n",
        "\n",
        "# print list containing - english, hindi, chinese, spanish and bengali\n",
        "print(languages[0:5])\n",
        "\n",
        "\n",
        "# print list contains bengali,russian and arabic\n",
        "print(languages[4:7])\n",
        "\n",
        "\n",
        "# if you want to slice list from starting then no need to mention index because python automatically start from the beginning.\n",
        "print(languages[:3])\n",
        "\n",
        "# similarly if you want to slice till the end then ignore mentioning index for last element\n",
        "print(languages[4:])"
      ],
      "execution_count": null,
      "outputs": [
        {
          "output_type": "stream",
          "name": "stdout",
          "text": [
            "['English', 'Hindi', 'Chinese', 'Spanish', 'Bengali']\n",
            "['Bengali', 'Russian', 'Arabic']\n",
            "['English', 'Hindi', 'Chinese']\n",
            "['Bengali', 'Russian', 'Arabic', 'Portuguese']\n"
          ]
        }
      ]
    },
    {
      "cell_type": "code",
      "metadata": {
        "colab": {
          "base_uri": "https://localhost:8080/"
        },
        "id": "VzSwu_b7fEbb",
        "outputId": "5e58eef8-6e86-4ab7-d221-9da4b00ccf23"
      },
      "source": [
        "# Looping through Sliced list\n",
        "languages = ['English', 'Hindi', 'Chinese', 'Spanish', 'Bengali', 'Russian', 'Arabic', 'Portuguese']\n",
        "\n",
        "for language in languages[:5]:\n",
        "  print(language)"
      ],
      "execution_count": null,
      "outputs": [
        {
          "output_type": "stream",
          "name": "stdout",
          "text": [
            "English\n",
            "Hindi\n",
            "Chinese\n",
            "Spanish\n",
            "Bengali\n"
          ]
        }
      ]
    },
    {
      "cell_type": "code",
      "metadata": {
        "id": "syOvoGUBfEbc"
      },
      "source": [
        "# Copying a List\n"
      ],
      "execution_count": null,
      "outputs": []
    },
    {
      "cell_type": "code",
      "metadata": {
        "colab": {
          "base_uri": "https://localhost:8080/"
        },
        "id": "s3zod15vfEbd",
        "outputId": "4876ea38-003f-4e1d-f8b7-4b6b6faa830b"
      },
      "source": [
        "languages = ['English', 'Hindi', 'Chinese', 'Spanish', 'Bengali', 'Russian', 'Arabic', 'Portuguese']\n",
        "\n",
        "copy_languages = languages[:]\n",
        "\n",
        "print(languages)\n",
        "\n",
        "\n",
        "print(copy_languages)"
      ],
      "execution_count": null,
      "outputs": [
        {
          "output_type": "stream",
          "name": "stdout",
          "text": [
            "['English', 'Hindi', 'Chinese', 'Spanish', 'Bengali', 'Russian', 'Arabic', 'Portuguese']\n",
            "['English', 'Hindi', 'Chinese', 'Spanish', 'Bengali', 'Russian', 'Arabic', 'Portuguese']\n"
          ]
        }
      ]
    },
    {
      "cell_type": "code",
      "metadata": {
        "colab": {
          "base_uri": "https://localhost:8080/"
        },
        "id": "hHHi9Q0cfEbe",
        "outputId": "dca294b8-ba05-4a0d-e431-a0ad77f7dc65"
      },
      "source": [
        "my_car = ['audi', 'bmw', 'tesla']\n",
        "neighbour_car = my_car[:]\n",
        "\n",
        "del my_car[2]\n",
        "neighbour_car.append('toyota')\n",
        "\n",
        "print('My cars are : ')\n",
        "print(my_car)\n",
        "\n",
        "\n",
        "print('\\nMy neighbour\\'s cars are : ')\n",
        "print(neighbour_car)"
      ],
      "execution_count": null,
      "outputs": [
        {
          "output_type": "stream",
          "name": "stdout",
          "text": [
            "My cars are : \n",
            "['audi', 'bmw']\n",
            "\n",
            "My neighbour's cars are : \n",
            "['audi', 'bmw', 'tesla', 'toyota']\n"
          ]
        }
      ]
    },
    {
      "cell_type": "markdown",
      "metadata": {
        "id": "WNoGGL2OfEbg"
      },
      "source": [
        "## Tuples\n",
        "Like lists, tuples are collection types in python. However, Tuples are immutable, which means the value of immutable lists cannot change. In python, tuple use parentheses “(“. Let’s have a look at how to define tuples in python."
      ]
    },
    {
      "cell_type": "code",
      "metadata": {
        "colab": {
          "base_uri": "https://localhost:8080/"
        },
        "id": "czwmdcMWfEbh",
        "outputId": "168ba9ac-3a75-448e-807a-e5f5867167b0"
      },
      "source": [
        "dimensions = (100, 20)\n",
        "\n",
        "print(dimensions[0])\n",
        "\n",
        "print(dimensions[1])"
      ],
      "execution_count": null,
      "outputs": [
        {
          "output_type": "stream",
          "name": "stdout",
          "text": [
            "100\n",
            "20\n"
          ]
        }
      ]
    },
    {
      "cell_type": "code",
      "metadata": {
        "colab": {
          "base_uri": "https://localhost:8080/"
        },
        "id": "joE8k6CKfEbh",
        "outputId": "cf3b24ad-4f7a-4948-a30a-dae8498f1947"
      },
      "source": [
        "# MOdify Tuple\n",
        "dimensions = (100, 20)\n",
        "print(dimensions)\n",
        "\n",
        "\n",
        "# assign new values to tuple\n",
        "dimensions = (500, 100)\n",
        "print(dimensions)"
      ],
      "execution_count": null,
      "outputs": [
        {
          "output_type": "stream",
          "name": "stdout",
          "text": [
            "(100, 20)\n",
            "(500, 100)\n"
          ]
        }
      ]
    },
    {
      "cell_type": "code",
      "metadata": {
        "colab": {
          "base_uri": "https://localhost:8080/"
        },
        "id": "oZrA0paHfEbi",
        "outputId": "566afc91-29c8-4ccd-f654-0611e7a9af56"
      },
      "source": [
        "# Looping through Tuples\n",
        "dimensions = (100, 20)\n",
        "\n",
        "for dimension in dimensions:\n",
        "  print(dimension)"
      ],
      "execution_count": null,
      "outputs": [
        {
          "output_type": "stream",
          "name": "stdout",
          "text": [
            "100\n",
            "20\n"
          ]
        }
      ]
    },
    {
      "cell_type": "code",
      "metadata": {
        "id": "i4aY64FffEbi"
      },
      "source": [
        ""
      ],
      "execution_count": null,
      "outputs": []
    },
    {
      "cell_type": "code",
      "metadata": {
        "id": "5JrUqwVcfEbi"
      },
      "source": [
        ""
      ],
      "execution_count": null,
      "outputs": []
    },
    {
      "cell_type": "code",
      "metadata": {
        "id": "lczitQv1fEbj"
      },
      "source": [
        ""
      ],
      "execution_count": null,
      "outputs": []
    },
    {
      "cell_type": "code",
      "metadata": {
        "id": "gdVYsVfSfEbj"
      },
      "source": [
        ""
      ],
      "execution_count": null,
      "outputs": []
    },
    {
      "cell_type": "code",
      "metadata": {
        "id": "F_ksz7-ofEbj"
      },
      "source": [
        ""
      ],
      "execution_count": null,
      "outputs": []
    }
  ]
}